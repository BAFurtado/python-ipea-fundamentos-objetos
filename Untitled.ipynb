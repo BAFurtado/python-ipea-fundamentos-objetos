{
 "cells": [
  {
   "cell_type": "code",
   "execution_count": 1,
   "id": "9c54ff61-ed0a-49d3-ac89-518066bf401c",
   "metadata": {},
   "outputs": [
    {
     "name": "stdout",
     "output_type": "stream",
     "text": [
      " hello world \n"
     ]
    }
   ],
   "source": [
    "print(' hello world ')"
   ]
  },
  {
   "cell_type": "code",
   "execution_count": null,
   "id": "c0a6c02e-aa75-4eb0-b5f4-5dc1fac8f361",
   "metadata": {},
   "outputs": [],
   "source": []
  },
  {
   "cell_type": "code",
   "execution_count": 2,
   "id": "2d3701d2-6acf-412d-9d58-cfe0f9dd7c99",
   "metadata": {},
   "outputs": [
    {
     "name": "stdout",
     "output_type": "stream",
     "text": [
      "a aula está muito fácil hoje\n"
     ]
    }
   ],
   "source": [
    "print('a aula está muito fácil hoje')"
   ]
  },
  {
   "cell_type": "code",
   "execution_count": null,
   "id": "cc2e32d0-f037-4508-a2ce-8f6c600e83d9",
   "metadata": {},
   "outputs": [],
   "source": []
  }
 ],
 "metadata": {
  "kernelspec": {
   "display_name": "Python 3 (ipykernel)",
   "language": "python",
   "name": "python3"
  },
  "language_info": {
   "codemirror_mode": {
    "name": "ipython",
    "version": 3
   },
   "file_extension": ".py",
   "mimetype": "text/x-python",
   "name": "python",
   "nbconvert_exporter": "python",
   "pygments_lexer": "ipython3",
   "version": "3.12.10"
  }
 },
 "nbformat": 4,
 "nbformat_minor": 5
}
